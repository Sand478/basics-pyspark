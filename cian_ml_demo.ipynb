{
 "cells": [
  {
   "cell_type": "code",
   "execution_count": 1,
   "id": "d7690e10-41ed-405f-94c9-e1f3c9c3a546",
   "metadata": {},
   "outputs": [
    {
     "name": "stderr",
     "output_type": "stream",
     "text": [
      "23/01/13 13:31:34 WARN Utils: Your hostname, spark-server resolves to a loopback address: 127.0.1.1; using 10.0.0.31 instead (on interface eth0)\n",
      "23/01/13 13:31:34 WARN Utils: Set SPARK_LOCAL_IP if you need to bind to another address\n",
      "WARNING: An illegal reflective access operation has occurred\n",
      "WARNING: Illegal reflective access by org.apache.spark.unsafe.Platform (file:/opt/spark/jars/spark-unsafe_2.12-3.2.3.jar) to constructor java.nio.DirectByteBuffer(long,int)\n",
      "WARNING: Please consider reporting this to the maintainers of org.apache.spark.unsafe.Platform\n",
      "WARNING: Use --illegal-access=warn to enable warnings of further illegal reflective access operations\n",
      "WARNING: All illegal access operations will be denied in a future release\n",
      "Using Spark's default log4j profile: org/apache/spark/log4j-defaults.properties\n",
      "Setting default log level to \"WARN\".\n",
      "To adjust logging level use sc.setLogLevel(newLevel). For SparkR, use setLogLevel(newLevel).\n",
      "23/01/13 13:31:35 WARN NativeCodeLoader: Unable to load native-hadoop library for your platform... using builtin-java classes where applicable\n",
      "23/01/13 13:31:36 WARN Utils: Service 'SparkUI' could not bind on port 4040. Attempting port 4041.\n",
      "23/01/13 13:31:36 WARN Utils: Service 'SparkUI' could not bind on port 4041. Attempting port 4042.\n"
     ]
    },
    {
     "data": {
      "text/html": [
       "\n",
       "            <div>\n",
       "                <p><b>SparkSession - in-memory</b></p>\n",
       "                \n",
       "        <div>\n",
       "            <p><b>SparkContext</b></p>\n",
       "\n",
       "            <p><a href=\"http://10.0.0.31:4042\">Spark UI</a></p>\n",
       "\n",
       "            <dl>\n",
       "              <dt>Version</dt>\n",
       "                <dd><code>v3.2.3</code></dd>\n",
       "              <dt>Master</dt>\n",
       "                <dd><code>local[*]</code></dd>\n",
       "              <dt>AppName</dt>\n",
       "                <dd><code>CIAN</code></dd>\n",
       "            </dl>\n",
       "        </div>\n",
       "        \n",
       "            </div>\n",
       "        "
      ],
      "text/plain": [
       "<pyspark.sql.session.SparkSession at 0x7f85507c9c90>"
      ]
     },
     "execution_count": 1,
     "metadata": {},
     "output_type": "execute_result"
    }
   ],
   "source": [
    "import findspark\n",
    "findspark.init()\n",
    "\n",
    "from pyspark.sql import SparkSession\n",
    "\n",
    "spark = SparkSession.builder.appName(\"CIAN\").getOrCreate()\n",
    "spark"
   ]
  },
  {
   "cell_type": "code",
   "execution_count": 2,
   "id": "8b2f9487-f119-45e3-9bb1-932200a8bef2",
   "metadata": {},
   "outputs": [],
   "source": [
    "cian = spark.read\\\n",
    ".option(\"header\", \"true\")\\\n",
    ".option(\"inferSchema\", \"true\")\\\n",
    ".option(\"multiline\", \"true\")\\\n",
    ".option(\"escape\", '\"')\\\n",
    ".csv(\"cian_phase-0.csv\").drop('_c0')"
   ]
  },
  {
   "cell_type": "code",
   "execution_count": 3,
   "id": "350bcfb3-4283-43f3-9adf-2dcefa9f6d69",
   "metadata": {},
   "outputs": [
    {
     "name": "stdout",
     "output_type": "stream",
     "text": [
      "+-------+-------+--------+---------+-------+---------------+------------+----------+---------------+\n",
      "|area_m2|parking|bathroom|rent_cost|rooms:Q|metro_name_code|total_floors|house_type|renovation_type|\n",
      "+-------+-------+--------+---------+-------+---------------+------------+----------+---------------+\n",
      "|   58.0|      0|       1| 225000.0|      2|       190000.0|          26|   43000.0|        55000.0|\n",
      "|   98.0|      1|       1| 250000.0|      3|       170000.0|           4|   70000.0|        55000.0|\n",
      "|  120.0|      0|       0| 130000.0|      3|       170000.0|          10|   95000.0|        55000.0|\n",
      "|   90.0|      0|       1| 210000.0|      4|       190000.0|           7|   95000.0|        55000.0|\n",
      "|  170.0|      1|       1| 290000.0|      4|       170000.0|           7|   49000.0|        55000.0|\n",
      "|   80.0|      0|       0| 100000.0|      3|       170000.0|           8|   53000.0|        55000.0|\n",
      "|  100.0|      0|       1| 200000.0|      3|       170000.0|           4|   53000.0|        90000.0|\n",
      "|   30.0|      0|       0| 120000.0|      2|       190000.0|          26|   43000.0|        55000.0|\n",
      "|  150.0|      0|       1| 180000.0|      5|       180000.0|           7|   53000.0|        55000.0|\n",
      "|  201.0|      0|       1| 190000.0|      5|       190000.0|           3|   49000.0|        55000.0|\n",
      "|   64.0|      0|       1| 205000.0|      2|       190000.0|          26|   43000.0|        55000.0|\n",
      "|  112.0|      1|       1| 230000.0|      3|       190000.0|           7|   49000.0|        55000.0|\n",
      "|  186.0|      0|       1| 190000.0|      5|       190000.0|           3|  195000.0|        55000.0|\n",
      "|  100.0|      0|       1| 200000.0|      3|       190000.0|           8|   49000.0|        55000.0|\n",
      "|  150.0|      0|       1| 200000.0|      5|       190000.0|           7|   53000.0|        55000.0|\n",
      "|  140.0|      0|       0| 300000.0|      5|       170000.0|           7|   49000.0|        90000.0|\n",
      "|   44.0|      0|       0| 135000.0|      2|       190000.0|          26|   43000.0|        55000.0|\n",
      "|   85.0|      1|       0| 150000.0|      3|       170000.0|           7|   49000.0|        55000.0|\n",
      "|  100.0|      0|       1| 320000.0|      2|       170000.0|           7|  105200.0|        55000.0|\n",
      "|   85.0|      1|       0| 150000.0|      3|       190000.0|           7|   53000.0|        55000.0|\n",
      "+-------+-------+--------+---------+-------+---------------+------------+----------+---------------+\n",
      "only showing top 20 rows\n",
      "\n"
     ]
    }
   ],
   "source": [
    "cian.show()"
   ]
  },
  {
   "cell_type": "code",
   "execution_count": 4,
   "id": "bc9fbfa2-b567-4641-9507-cd29a344bccf",
   "metadata": {},
   "outputs": [
    {
     "name": "stdout",
     "output_type": "stream",
     "text": [
      "root\n",
      " |-- area_m2: double (nullable = true)\n",
      " |-- parking: integer (nullable = true)\n",
      " |-- bathroom: integer (nullable = true)\n",
      " |-- rent_cost: double (nullable = true)\n",
      " |-- rooms:Q: integer (nullable = true)\n",
      " |-- metro_name_code: double (nullable = true)\n",
      " |-- total_floors: integer (nullable = true)\n",
      " |-- house_type: double (nullable = true)\n",
      " |-- renovation_type: double (nullable = true)\n",
      "\n"
     ]
    }
   ],
   "source": [
    "cian.printSchema()"
   ]
  },
  {
   "cell_type": "code",
   "execution_count": 5,
   "id": "de36fb86-e436-47ff-a53c-0b60c4439507",
   "metadata": {},
   "outputs": [
    {
     "name": "stderr",
     "output_type": "stream",
     "text": [
      "                                                                                \r"
     ]
    },
    {
     "name": "stdout",
     "output_type": "stream",
     "text": [
      "+--------+--------------------+\n",
      "|   label|            features|\n",
      "+--------+--------------------+\n",
      "|225000.0|[58.0,0.0,1.0,190...|\n",
      "|250000.0|[98.0,1.0,1.0,170...|\n",
      "|130000.0|[120.0,0.0,0.0,17...|\n",
      "|210000.0|[90.0,0.0,1.0,190...|\n",
      "|290000.0|[170.0,1.0,1.0,17...|\n",
      "|100000.0|[80.0,0.0,0.0,170...|\n",
      "|200000.0|[100.0,0.0,1.0,17...|\n",
      "|120000.0|[30.0,0.0,0.0,190...|\n",
      "|180000.0|[150.0,0.0,1.0,18...|\n",
      "|190000.0|[201.0,0.0,1.0,19...|\n",
      "+--------+--------------------+\n",
      "only showing top 10 rows\n",
      "\n"
     ]
    }
   ],
   "source": [
    "from pyspark.ml.linalg import Vectors\n",
    "\n",
    "def transformToLabeledPoint(row) :\n",
    "    lp = ( row[\"rent_cost\"], Vectors.dense([row[\"area_m2\"],\\\n",
    "                        row[\"parking\"], \\\n",
    "                        row['bathroom'], \\\n",
    "                        row['metro_name_code'], \\\n",
    "                        row['total_floors'], \\\n",
    "                        row['house_type'], \\\n",
    "                        row[\"renovation_type\"]]))\n",
    "    return lp\n",
    "    \n",
    "Lp = cian.rdd.map(transformToLabeledPoint)\n",
    "DF = spark.createDataFrame(Lp,[\"label\", \"features\"])\n",
    "DF.select(\"label\",\"features\").show(10)"
   ]
  },
  {
   "cell_type": "code",
   "execution_count": 6,
   "id": "524cf3b3-cd47-4514-8f69-f0a0f521655f",
   "metadata": {},
   "outputs": [
    {
     "name": "stderr",
     "output_type": "stream",
     "text": [
      "[Stage 5:>                                                          (0 + 1) / 1]\r"
     ]
    },
    {
     "data": {
      "text/plain": [
       "15237"
      ]
     },
     "execution_count": 6,
     "metadata": {},
     "output_type": "execute_result"
    },
    {
     "name": "stderr",
     "output_type": "stream",
     "text": [
      "                                                                                \r"
     ]
    }
   ],
   "source": [
    "trainingData, testData = DF.randomSplit([0.8, 0.2])\n",
    "trainingData.count()"
   ]
  },
  {
   "cell_type": "code",
   "execution_count": 7,
   "id": "a2d9919c-7923-4fd7-a16b-140bb5eea346",
   "metadata": {},
   "outputs": [
    {
     "name": "stderr",
     "output_type": "stream",
     "text": [
      "23/01/13 13:32:26 WARN Instrumentation: [a094617e] regParam is zero, which might cause numerical instability and overfitting.\n",
      "23/01/13 13:32:26 WARN InstanceBuilder$NativeBLAS: Failed to load implementation from:dev.ludovic.netlib.blas.JNIBLAS\n",
      "23/01/13 13:32:26 WARN InstanceBuilder$NativeBLAS: Failed to load implementation from:dev.ludovic.netlib.blas.ForeignLinkerBLAS\n",
      "23/01/13 13:32:27 WARN InstanceBuilder$NativeLAPACK: Failed to load implementation from:dev.ludovic.netlib.lapack.JNILAPACK\n",
      "[Stage 10:>                                                         (0 + 1) / 1]\r"
     ]
    },
    {
     "name": "stdout",
     "output_type": "stream",
     "text": [
      "Coefficients: [638.1813924487893,17627.44516588717,23911.10340750069,0.5594312622882817,128.2818486988835,0.09128495727650487,0.4115414015360142]\n",
      "Intercept: -37455.49746347456\n"
     ]
    },
    {
     "name": "stderr",
     "output_type": "stream",
     "text": [
      "                                                                                \r"
     ]
    }
   ],
   "source": [
    "from pyspark.ml.regression import LinearRegression\n",
    "lr = LinearRegression(maxIter=10)\n",
    "lrModel = lr.fit(trainingData)\n",
    "\n",
    "print(\"Coefficients: \" + str(lrModel.coefficients))\n",
    "print(\"Intercept: \" + str(lrModel.intercept))"
   ]
  },
  {
   "cell_type": "code",
   "execution_count": 8,
   "id": "a26c4cb5-b4ad-4e8c-8ab7-0f03b1aacad5",
   "metadata": {},
   "outputs": [
    {
     "name": "stdout",
     "output_type": "stream",
     "text": [
      "+------------------+-------+--------------------+\n",
      "|        prediction|  label|            features|\n",
      "+------------------+-------+--------------------+\n",
      "|171398.38937020028| 5000.0|[160.0,1.0,1.0,72...|\n",
      "| 396452.4272870311| 9800.0|[500.0,1.0,1.0,75...|\n",
      "| 382133.9041900095|10000.0|[371.0,0.0,1.0,20...|\n",
      "|342513.86999052984|10000.0|[400.0,1.0,1.0,60...|\n",
      "| 26660.88166454623|18000.0|[36.0,0.0,0.0,380...|\n",
      "| 50824.61325037223|20000.0|[20.0,0.0,1.0,475...|\n",
      "|21803.612502389784|20000.0|[30.0,0.0,0.0,330...|\n",
      "| 29391.04866287748|22000.0|[38.0,0.0,0.0,330...|\n",
      "| 30863.38485697357|22000.0|[38.9,0.0,0.0,330...|\n",
      "| 39158.73174476143|22000.0|[40.0,0.0,0.0,500...|\n",
      "|30948.060556260665|22000.0|[42.0,0.0,0.0,342...|\n",
      "|13355.931385962613|23000.0|[12.0,0.0,0.0,370...|\n",
      "|18267.345826981786|23000.0|[20.5,0.0,0.0,370...|\n",
      "|  18249.7099536858|23000.0|[27.0,0.0,0.0,330...|\n",
      "|27686.656628974975|23000.0|[30.0,0.0,0.0,430...|\n",
      "| 27121.25383951972|23000.0|[35.0,0.0,0.0,370...|\n",
      "|30285.793752724043|23000.0|[39.0,0.0,0.0,330...|\n",
      "|32294.825355491193|23000.0|[44.0,0.0,0.0,330...|\n",
      "|18251.606870572192|23750.0|[23.0,0.0,0.0,330...|\n",
      "| 30260.42025922754|23999.0|[43.0,0.0,0.0,330...|\n",
      "+------------------+-------+--------------------+\n",
      "only showing top 20 rows\n",
      "\n"
     ]
    }
   ],
   "source": [
    "predictions = lrModel.transform(testData)\n",
    "predictions.select(\"prediction\",\"label\",\"features\").show()"
   ]
  },
  {
   "cell_type": "code",
   "execution_count": 9,
   "id": "05692853-1d21-4705-a8f6-772a156b343f",
   "metadata": {},
   "outputs": [
    {
     "data": {
      "text/plain": [
       "0.7691334272740756"
      ]
     },
     "execution_count": 9,
     "metadata": {},
     "output_type": "execute_result"
    }
   ],
   "source": [
    "# R2 Linear Regression\n",
    "from pyspark.ml.evaluation import RegressionEvaluator\n",
    "evaluator = RegressionEvaluator(predictionCol=\"prediction\", \\\n",
    "                 labelCol=\"label\",metricName=\"r2\")\n",
    "evaluator.evaluate(predictions)"
   ]
  }
 ],
 "metadata": {
  "kernelspec": {
   "display_name": "Python 3 (ipykernel)",
   "language": "python",
   "name": "python3"
  },
  "language_info": {
   "codemirror_mode": {
    "name": "ipython",
    "version": 3
   },
   "file_extension": ".py",
   "mimetype": "text/x-python",
   "name": "python",
   "nbconvert_exporter": "python",
   "pygments_lexer": "ipython3",
   "version": "3.10.6"
  }
 },
 "nbformat": 4,
 "nbformat_minor": 5
}
